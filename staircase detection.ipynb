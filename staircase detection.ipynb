{
 "cells": [
  {
   "cell_type": "code",
   "execution_count": 1,
   "metadata": {
    "_cell_guid": "b1076dfc-b9ad-4769-8c92-a6c4dae69d19",
    "_uuid": "8f2839f25d086af736a60e9eeb907d3b93b6e0e5"
   },
   "outputs": [],
   "source": [
    "from mxnet import nd as np\n",
    "#import numpy as np\n",
    "from mxnet import autograd\n",
    "import pandas as pd\n"
   ]
  },
  {
   "cell_type": "code",
   "execution_count": 4,
   "metadata": {
    "_cell_guid": "79c7e3d0-c299-4dcb-8224-4455121ee9b0",
    "_uuid": "d629ff2d2480ee46fbb7e2d37f6b5fab8052498a"
   },
   "outputs": [],
   "source": [
    "data_train = pd.read_csv('../input/train.csv')\n",
    "train_x=data_train[['R1C1','R1C2','R2C1','R2C2']].copy()\n",
    "x_train=train_x.as_matrix()\n",
    "x_train=np.array(x_train)\n",
    "train_y=data_train[['IsStairs']].copy()\n",
    "y_train=train_y.as_matrix()\n",
    "y_train=np.array(y_train)\n",
    "type(y_train)\n",
    "#print (y_train.shape)\n",
    "\n",
    "#np.delete(x_train, 4, 1)\n"
   ]
  },
  {
   "cell_type": "code",
   "execution_count": 6,
   "metadata": {
    "_uuid": "e9929990fc0b77b7519f12351afb7336a9698a23"
   },
   "outputs": [],
   "source": [
    "data_test=pd.read_csv('../input/test.csv')"
   ]
  },
  {
   "cell_type": "code",
   "execution_count": 7,
   "metadata": {
    "_uuid": "86fb0fdb2c438e117cb409a11bbdf0de558340c2",
    "collapsed": true
   },
   "outputs": [],
   "source": [
    "test_x=data_test[['R1C1','R1C2','R2C1','R2C2']].copy()\n",
    "x_test=test_x.as_matrix()\n",
    "x_test=np.array(x_test)\n",
    "test_y=data_test[['IsStairs']].copy()\n",
    "y_test=test_y.as_matrix()\n",
    "y_test=np.array(y_test)"
   ]
  },
  {
   "cell_type": "code",
   "execution_count": 8,
   "metadata": {
    "_uuid": "e1c1a000554efc9247c206346c01e778e4594502"
   },
   "outputs": [],
   "source": [
    "def relu(x):\n",
    "    return np.maximum(x,np.zeros_like(x))\n",
    "\n",
    "print(relu(np.array([8,3,-2,-9,1])))\n"
   ]
  },
  {
   "cell_type": "code",
   "execution_count": 9,
   "metadata": {
    "_uuid": "5f2d54cad70f73ee8d6231b8b9fe6aaf4009d44d",
    "collapsed": true
   },
   "outputs": [],
   "source": [
    "def sigmoid(x):\n",
    "        return (1 / (1 + np.exp(-x)))\n",
    "\n",
    "#print(sigmoid(np.array([3, 5])))"
   ]
  },
  {
   "cell_type": "code",
   "execution_count": 10,
   "metadata": {
    "_uuid": "284ce02903282c40a5cda59cfd70d63e12018cf6",
    "collapsed": true
   },
   "outputs": [],
   "source": [
    "def softmax(x):\n",
    "    x= x-np.max(x)\n",
    "    return np.exp(x)/np.sum(np.exp(x))\n",
    "\n",
    "#print(softmax(np.array([0.3,0.7,1.9,0.1])))"
   ]
  },
  {
   "cell_type": "code",
   "execution_count": 11,
   "metadata": {
    "_uuid": "c06650b20a90a4b3d47f7a4dbf1ba3f0d0bdad6b",
    "collapsed": true
   },
   "outputs": [],
   "source": [
    "def sgd(params,lr):\n",
    "    for param in params:\n",
    "        param-=lr*param.grad"
   ]
  },
  {
   "cell_type": "code",
   "execution_count": 12,
   "metadata": {
    "_uuid": "b446d2189187bfc8b8cc9fd550546f5ece2e8cf7",
    "collapsed": true
   },
   "outputs": [],
   "source": [
    "def crossentropy(y,yhat):\n",
    "        #print(y,yhat)\n",
    "        #return -np.nansum(y*np.log(yhat),axis=1)\n",
    "        return -np.nansum(y*np.log(yhat))\n",
    "\n",
    "#print(crossentropy([ 0.47570884],[1.0]))\n",
    "#print(crossentropy(np.array([[1]]),np.array([[0]])))   "
   ]
  },
  {
   "cell_type": "code",
   "execution_count": 13,
   "metadata": {
    "_uuid": "89d5cf4d7b1c7ee053f4e4c8657ba61dfb878558",
    "collapsed": true
   },
   "outputs": [],
   "source": [
    "input_shape=4\n",
    "h1_shape=3\n",
    "output=2\n",
    "lr=0.01\n",
    "scale=0.01"
   ]
  },
  {
   "cell_type": "code",
   "execution_count": 14,
   "metadata": {
    "_uuid": "420fc81f8f518d9f8abc76824f5d80d771e59945",
    "collapsed": true
   },
   "outputs": [],
   "source": [
    "w1=np.normal(shape=(input_shape,h1_shape),scale=scale)\n",
    "w2=np.normal(shape=(h1_shape,output),scale=scale)\n",
    "b1=np.normal(shape=h1_shape,scale=scale)\n",
    "b2=np.normal(shape=output,scale=scale)"
   ]
  },
  {
   "cell_type": "code",
   "execution_count": 15,
   "metadata": {
    "_uuid": "6cc4a4ec327930e72fd3a73e614f80b4643148de",
    "collapsed": true
   },
   "outputs": [],
   "source": [
    "params=[w1,b1,w2,b2]\n",
    "for param in params:\n",
    "    param.attach_grad()"
   ]
  },
  {
   "cell_type": "code",
   "execution_count": 16,
   "metadata": {
    "_uuid": "35377cb033e307d60ad4f4d5078f6d399faf05d8",
    "collapsed": true
   },
   "outputs": [],
   "source": [
    "def net(x):\n",
    "    int1=relu(np.dot(x,w1)+b1)\n",
    "    int2=softmax(np.dot(int1,w2)+b2)\n",
    "    return (int2)\n",
    "#x=np.array([1,2,3,4])\n",
    "#print(type(x))\n",
    "#print(net(x))\n",
    "#x=x_train[1]\n",
    "#print(type(x))\n",
    "#net(x)\n",
    "\n"
   ]
  },
  {
   "cell_type": "code",
   "execution_count": 17,
   "metadata": {
    "_uuid": "386c5f9accaa3bf5f79cefafe3cff3d5b5d509f5",
    "collapsed": true
   },
   "outputs": [],
   "source": [
    "def evaluate(data,lebel):\n",
    "          numerator=0\n",
    "          denominator=0\n",
    "          num_iters= len(data)\n",
    "          #while(1)\n",
    "          for i in range (num_iters):\n",
    "            x= data[i].reshape((-1,4))\n",
    "            #print(x[i])\n",
    "            y= lebel[i]\n",
    "            #print(y)\n",
    "            #output= net(x)  #softmax generated an array containing probabilities\n",
    "\n",
    "            output= np.argmax(net(x), axis=1)\n",
    "            #print(output,end=' ')\n",
    "            #print(y)\n",
    "            numerator+=sum(output==y)\n",
    "            denominator+=len(x)\n",
    "\n",
    "          #print (numerator/denominator)  \n",
    "          print (numerator)\n",
    "          print (denominator) "
   ]
  },
  {
   "cell_type": "code",
   "execution_count": 18,
   "metadata": {
    "_uuid": "5912a93a70da8d603aab67cef9cd2729d8fd4ba0"
   },
   "outputs": [],
   "source": [
    "epochs=10\n",
    "batch_size=1\n",
    "lr=0.001\n",
    "num_iters= len(x_train) \n",
    "num_iters\n"
   ]
  },
  {
   "cell_type": "code",
   "execution_count": 19,
   "metadata": {
    "_uuid": "f1c93276657f639fe2cba2ca01ce24a808e3bd73",
    "collapsed": true
   },
   "outputs": [],
   "source": [
    "cur_loss=0.0\n",
    "for e in range(epochs):\n",
    " for i in range(0,num_iters):\n",
    "    with autograd.record():\n",
    "        net_output= net(x_train[i])\n",
    "        #print(net_output,y_train[i])\n",
    "        loss= crossentropy(y_train[i],net_output)\n",
    "        #print(loss)\n",
    "    loss.backward()\n",
    "    cur_loss+=np.sum(loss).asscalar()\n",
    "    sgd(params,lr)\n",
    "    "
   ]
  },
  {
   "cell_type": "code",
   "execution_count": 20,
   "metadata": {
    "_uuid": "287acea1955e49e05fffbd92a1746cbb7458efbd"
   },
   "outputs": [],
   "source": [
    "evaluate(x_test,y_test)"
   ]
  },
  {
   "cell_type": "code",
   "execution_count": null,
   "metadata": {
    "_uuid": "b88b1fc486e0a5435cd06e88481466266d08ea4f",
    "collapsed": true
   },
   "outputs": [],
   "source": []
  }
 ],
 "metadata": {
  "kernelspec": {
   "display_name": "Python 2",
   "language": "python",
   "name": "python2"
  },
  "language_info": {
   "codemirror_mode": {
    "name": "ipython",
    "version": 2
   },
   "file_extension": ".py",
   "mimetype": "text/x-python",
   "name": "python",
   "nbconvert_exporter": "python",
   "pygments_lexer": "ipython2",
   "version": "2.7.14"
  }
 },
 "nbformat": 4,
 "nbformat_minor": 1
}
